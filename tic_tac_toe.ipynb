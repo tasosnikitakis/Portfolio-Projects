{
  "nbformat": 4,
  "nbformat_minor": 0,
  "metadata": {
    "colab": {
      "provenance": [],
      "authorship_tag": "ABX9TyOMzAkEkidlC6beF5JlWw/b",
      "include_colab_link": true
    },
    "kernelspec": {
      "name": "python3",
      "display_name": "Python 3"
    },
    "language_info": {
      "name": "python"
    }
  },
  "cells": [
    {
      "cell_type": "markdown",
      "metadata": {
        "id": "view-in-github",
        "colab_type": "text"
      },
      "source": [
        "<a href=\"https://colab.research.google.com/github/tasosnikitakis/Portfolio-Projects/blob/main/tic_tac_toe.ipynb\" target=\"_parent\"><img src=\"https://colab.research.google.com/assets/colab-badge.svg\" alt=\"Open In Colab\"/></a>"
      ]
    },
    {
      "cell_type": "markdown",
      "source": [
        "This is a text base tic tac toe game. It comprises of three functions and a main game loop. The first function is the Board function. The board function uses two loops to build the board. The seccond function checks wheter the games winning conditions have been met and if so it returns \"True\". The third function gets the players move in the form of a letter between A, B or C for row and 1, 2, 3 for column. Finally with these 3 functions the main game while loop gets each player move from a maximum of 9 moves, draws the table and checks whether the winning conditions have been met. If so it returns a winning message or else it returns a draw message"
      ],
      "metadata": {
        "id": "leng-MKZQpMS"
      }
    },
    {
      "cell_type": "code",
      "source": [
        "# Board function\n",
        "def make_board(board):\n",
        "    print(\"   1   2   3\")\n",
        "    for i in range(3):\n",
        "        print(chr(65 + i), end=\"  \")\n",
        "        for j in range(3):\n",
        "            print(board[i][j], end=\" | \")\n",
        "        print(\"\\n   ---------\")\n",
        "\n",
        "# Initialize an empty 3x3 board\n",
        "board = [[\" \" for _ in range(3)] for _ in range(3)]\n",
        "\n",
        "# Check Winner Function\n",
        "def check_winner(board, player_symbol):\n",
        "    # Check rows, columns, and diagonals\n",
        "    for i in range(3):\n",
        "        # Check rows\n",
        "        if all(board[i][j] == player_symbol for j in range(3)):\n",
        "            return True\n",
        "        # Check columns\n",
        "        if all(board[j][i] == player_symbol for j in range(3)):\n",
        "            return True\n",
        "\n",
        "    # Check diagonals\n",
        "    if all(board[i][i] == player_symbol for i in range(3)) or all(board[i][2 - i] == player_symbol for i in range(3)):\n",
        "        return True\n",
        "\n",
        "    return False\n",
        "\n",
        "# Function to get player's move\n",
        "def get_move(player_symbol):\n",
        "    while True:\n",
        "        move = input(f\"Player {player_symbol}, enter your move (e.g., A1): \")\n",
        "        if len(move) != 2 or move[0] not in \"ABC\" or move[1] not in \"123\":\n",
        "            print(\"Invalid input. Please use format like A1, B2, C3, etc.\")\n",
        "        else:\n",
        "            row = ord(move[0]) - ord(\"A\")\n",
        "            col = int(move[1]) - 1\n",
        "            if board[row][col] == \" \":\n",
        "                return row, col\n",
        "            else:\n",
        "                print(\"That cell is already taken. Try again.\")\n",
        "\n",
        "# Main game loop\n",
        "players = [\"X\", \"O\"]\n",
        "for turn in range(9):\n",
        "    player_symbol = players[turn % 2]\n",
        "    row, col = get_move(player_symbol)\n",
        "    board[row][col] = player_symbol\n",
        "    make_board(board)\n",
        "\n",
        "    # Check if the current player has won\n",
        "    if check_winner(board, player_symbol):\n",
        "        print(f\"Player {player_symbol} wins!\")\n",
        "        break\n",
        "\n",
        "# If no one has won after all moves, it's a draw\n",
        "else:\n",
        "    print(\"It's a draw! Nobody wins.\")\n"
      ],
      "metadata": {
        "colab": {
          "base_uri": "https://localhost:8080/"
        },
        "id": "VNY6Gsx9NN9p",
        "outputId": "8c3060cf-b8bb-4b1b-cf30-8ed6fafdceb6"
      },
      "execution_count": 3,
      "outputs": [
        {
          "output_type": "stream",
          "name": "stdout",
          "text": [
            "Player X, enter your move (e.g., A1): A1\n",
            "   1   2   3\n",
            "A  X |   |   | \n",
            "   ---------\n",
            "B    |   |   | \n",
            "   ---------\n",
            "C    |   |   | \n",
            "   ---------\n",
            "Player O, enter your move (e.g., A1): B1\n",
            "   1   2   3\n",
            "A  X |   |   | \n",
            "   ---------\n",
            "B  O |   |   | \n",
            "   ---------\n",
            "C    |   |   | \n",
            "   ---------\n",
            "Player X, enter your move (e.g., A1): A2\n",
            "   1   2   3\n",
            "A  X | X |   | \n",
            "   ---------\n",
            "B  O |   |   | \n",
            "   ---------\n",
            "C    |   |   | \n",
            "   ---------\n",
            "Player O, enter your move (e.g., A1): B2\n",
            "   1   2   3\n",
            "A  X | X |   | \n",
            "   ---------\n",
            "B  O | O |   | \n",
            "   ---------\n",
            "C    |   |   | \n",
            "   ---------\n",
            "Player X, enter your move (e.g., A1): A3\n",
            "   1   2   3\n",
            "A  X | X | X | \n",
            "   ---------\n",
            "B  O | O |   | \n",
            "   ---------\n",
            "C    |   |   | \n",
            "   ---------\n",
            "Player X wins!\n"
          ]
        }
      ]
    }
  ]
}